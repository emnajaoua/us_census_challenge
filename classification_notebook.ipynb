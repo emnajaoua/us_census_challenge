{
 "cells": [
  {
   "cell_type": "code",
   "execution_count": 1,
   "metadata": {},
   "outputs": [],
   "source": [
    "#Import necessary Librairies\n",
    "import pandas as pd\n",
    "import numpy as np\n",
    "import matplotlib.pyplot as plt\n",
    "import seaborn as sns\n",
    "from sklearn.preprocessing import LabelEncoder\n",
    "from sklearn import svm\n",
    "from sklearn.metrics import accuracy_score\n",
    "from sklearn.metrics import precision_recall_fscore_support\n",
    "from sklearn.neighbors import KNeighborsClassifier\n",
    "from sklearn.svm import SVC\n",
    "from sklearn.gaussian_process import GaussianProcessClassifier\n",
    "from sklearn.gaussian_process.kernels import RBF\n",
    "from sklearn.tree import DecisionTreeClassifier\n",
    "from sklearn.ensemble import RandomForestClassifier\n",
    "from sklearn.model_selection import train_test_split\n",
    "from sklearn import preprocessing\n",
    "from sklearn.pipeline import make_pipeline\n",
    "from sklearn.model_selection import cross_val_score\n",
    "from sklearn.linear_model import SGDClassifier"
   ]
  },
  {
   "cell_type": "code",
   "execution_count": 2,
   "metadata": {},
   "outputs": [],
   "source": [
    "#Dictionnary of features\n",
    "columns_dict = {\n",
    "    'AAGE': 'age',\n",
    "    'ACLSWKR': 'class of worker',\n",
    "    'ADTIND': 'industry code',\n",
    "    'ADTOCC' : 'occupation code',\n",
    "    'AHGA' : 'education',\n",
    "    'AHRSPAY': 'wage per Hour',\n",
    "    'AHSCOL' : 'enrolled in edu inst last wk', \n",
    "    'AMARITL' : 'marital status',\n",
    "    'AMJIND' : 'major industry code',\n",
    "    'AMJOCC' : 'major occupation code',\n",
    "    'ARACE' : 'race',\n",
    "    'AREORGN': 'hispanic Origin',\n",
    "    'ASEX': 'sex',\n",
    "    'AUNMEM': 'member of a labor union',\n",
    "    'AUNTYPE': 'reason for unemployment',\n",
    "    'AWKSTAT': 'full or part time employment stat',\n",
    "    'CAPGAIN': 'capital gains',\n",
    "    'CAPLOSS' : 'capital losses',\n",
    "    'DIVVAL': 'divdends from stocks',\n",
    "    'FILESTAT': 'tax filer status',\n",
    "    'GRINREG': 'region of previous residence',\n",
    "    'GRINST': 'state of previous residence',\n",
    "    'HHDFMX': 'detailed household and family stat',\n",
    "    'MARSUPWT' : 'instance Weight',\n",
    "    'HHDREL': 'detailed household summary in household',\n",
    "    'MIGMTR1': 'migration code-change in msa',\n",
    "    'MIGMTR3': 'migration code-change in reg',\n",
    "    'MIGMTR4': 'migration code-move within reg',\n",
    "    'MIGSAME': 'live in this house 1 year ago',\n",
    "    'MIGSUN': 'migration prev res in sunbelt',\n",
    "    'NOEMP': 'num persons worked for employer',\n",
    "    'PARENT': 'family members under 18',\n",
    "    'PEFNTVTY': 'country of birth father',\n",
    "    'PEMNTVTY': 'country of birth mother',\n",
    "    'PENATVTY': 'country of birth self',\n",
    "    'PRCITSHP': 'citizenship',\n",
    "    'SEOTR': 'own business or self employed',\n",
    "    'VETQVA': \"fill inc questionnaire for veteran's admin\",\n",
    "    'VETYN': 'veterans benefits',\n",
    "    'WKSWORK': 'weeks worked in year',\n",
    "    'year': 'year',\n",
    "    'salary': 'salary above 50000 or less than 50000'\n",
    "}"
   ]
  },
  {
   "cell_type": "code",
   "execution_count": 3,
   "metadata": {},
   "outputs": [],
   "source": [
    "## Load the Train and Test Datasets"
   ]
  },
  {
   "cell_type": "code",
   "execution_count": 4,
   "metadata": {},
   "outputs": [],
   "source": [
    "df_train = pd.read_csv('./census_income_learn.csv', names= ['AAGE', 'ACLSWKR', 'ADTIND', 'ADTOCC', 'AHGA','AHRSPAY','AHSCOL', 'AMARITL',\n",
    "                                                             'AMJIND', 'AMJOCC', 'ARACE', 'AREORGN',\n",
    "                                                            'ASEX', 'AUNMEM', 'AUNTYPE', 'AWKSTAT', 'CAPGAIN', 'CAPLOSS', \n",
    "                                                            'DIVVAL', 'FILESTAT', 'GRINREG', 'GRINST','HHDFMX','HHDREL', 'MARSUPWT',\n",
    "                                                            'MIGMTR1','MIGMTR3','MIGMTR4','MIGSAME','MIGSUN','NOEMP','PARENT','PEFNTVTY', 'PEMNTVTY',\n",
    "                                                            'PENATVTY','PRCITSHP','SEOTR','VETQVA','VETYN','WKSWORK','year','salary'])"
   ]
  },
  {
   "cell_type": "code",
   "execution_count": 5,
   "metadata": {},
   "outputs": [],
   "source": [
    "df_test = pd.read_csv('./census_income_test.csv', names= ['AAGE', 'ACLSWKR', 'ADTIND', 'ADTOCC', 'AHGA','AHRSPAY','AHSCOL', 'AMARITL',\n",
    "                                                             'AMJIND', 'AMJOCC', 'ARACE', 'AREORGN',\n",
    "                                                            'ASEX', 'AUNMEM', 'AUNTYPE', 'AWKSTAT', 'CAPGAIN', 'CAPLOSS', \n",
    "                                                            'DIVVAL', 'FILESTAT', 'GRINREG', 'GRINST','HHDFMX','HHDREL','MARSUPWT',\n",
    "                                                            'MIGMTR1','MIGMTR3','MIGMTR4','MIGSAME','MIGSUN','NOEMP','PARENT','PEFNTVTY', 'PEMNTVTY',\n",
    "                                                            'PENATVTY','PRCITSHP','SEOTR','VETQVA','VETYN','WKSWORK','year','salary'])"
   ]
  },
  {
   "cell_type": "code",
   "execution_count": 6,
   "metadata": {},
   "outputs": [],
   "source": [
    "## Training and testing Dataset Statistics"
   ]
  },
  {
   "cell_type": "code",
   "execution_count": 7,
   "metadata": {},
   "outputs": [
    {
     "name": "stdout",
     "output_type": "stream",
     "text": [
      "training set count of (rows, columns): (199523, 42)\n",
      "testing set count of (rows, columns) : (99762, 42)\n"
     ]
    }
   ],
   "source": [
    "print('training set count of (rows, columns):', df_train.shape)\n",
    "print('testing set count of (rows, columns) :', df_test.shape)"
   ]
  },
  {
   "cell_type": "code",
   "execution_count": 8,
   "metadata": {},
   "outputs": [
    {
     "data": {
      "text/html": [
       "<div>\n",
       "<style scoped>\n",
       "    .dataframe tbody tr th:only-of-type {\n",
       "        vertical-align: middle;\n",
       "    }\n",
       "\n",
       "    .dataframe tbody tr th {\n",
       "        vertical-align: top;\n",
       "    }\n",
       "\n",
       "    .dataframe thead th {\n",
       "        text-align: right;\n",
       "    }\n",
       "</style>\n",
       "<table border=\"1\" class=\"dataframe\">\n",
       "  <thead>\n",
       "    <tr style=\"text-align: right;\">\n",
       "      <th></th>\n",
       "      <th>AAGE</th>\n",
       "      <th>ACLSWKR</th>\n",
       "      <th>ADTIND</th>\n",
       "      <th>ADTOCC</th>\n",
       "      <th>AHGA</th>\n",
       "      <th>AHRSPAY</th>\n",
       "      <th>AHSCOL</th>\n",
       "      <th>AMARITL</th>\n",
       "      <th>AMJIND</th>\n",
       "      <th>AMJOCC</th>\n",
       "      <th>...</th>\n",
       "      <th>PEFNTVTY</th>\n",
       "      <th>PEMNTVTY</th>\n",
       "      <th>PENATVTY</th>\n",
       "      <th>PRCITSHP</th>\n",
       "      <th>SEOTR</th>\n",
       "      <th>VETQVA</th>\n",
       "      <th>VETYN</th>\n",
       "      <th>WKSWORK</th>\n",
       "      <th>year</th>\n",
       "      <th>salary</th>\n",
       "    </tr>\n",
       "  </thead>\n",
       "  <tbody>\n",
       "    <tr>\n",
       "      <th>0</th>\n",
       "      <td>73</td>\n",
       "      <td>Not in universe</td>\n",
       "      <td>0</td>\n",
       "      <td>0</td>\n",
       "      <td>High school graduate</td>\n",
       "      <td>0</td>\n",
       "      <td>Not in universe</td>\n",
       "      <td>Widowed</td>\n",
       "      <td>Not in universe or children</td>\n",
       "      <td>Not in universe</td>\n",
       "      <td>...</td>\n",
       "      <td>United-States</td>\n",
       "      <td>United-States</td>\n",
       "      <td>United-States</td>\n",
       "      <td>Native- Born in the United States</td>\n",
       "      <td>0</td>\n",
       "      <td>Not in universe</td>\n",
       "      <td>2</td>\n",
       "      <td>0</td>\n",
       "      <td>95</td>\n",
       "      <td>- 50000.</td>\n",
       "    </tr>\n",
       "    <tr>\n",
       "      <th>1</th>\n",
       "      <td>58</td>\n",
       "      <td>Self-employed-not incorporated</td>\n",
       "      <td>4</td>\n",
       "      <td>34</td>\n",
       "      <td>Some college but no degree</td>\n",
       "      <td>0</td>\n",
       "      <td>Not in universe</td>\n",
       "      <td>Divorced</td>\n",
       "      <td>Construction</td>\n",
       "      <td>Precision production craft &amp; repair</td>\n",
       "      <td>...</td>\n",
       "      <td>United-States</td>\n",
       "      <td>United-States</td>\n",
       "      <td>United-States</td>\n",
       "      <td>Native- Born in the United States</td>\n",
       "      <td>0</td>\n",
       "      <td>Not in universe</td>\n",
       "      <td>2</td>\n",
       "      <td>52</td>\n",
       "      <td>94</td>\n",
       "      <td>- 50000.</td>\n",
       "    </tr>\n",
       "    <tr>\n",
       "      <th>2</th>\n",
       "      <td>18</td>\n",
       "      <td>Not in universe</td>\n",
       "      <td>0</td>\n",
       "      <td>0</td>\n",
       "      <td>10th grade</td>\n",
       "      <td>0</td>\n",
       "      <td>High school</td>\n",
       "      <td>Never married</td>\n",
       "      <td>Not in universe or children</td>\n",
       "      <td>Not in universe</td>\n",
       "      <td>...</td>\n",
       "      <td>Vietnam</td>\n",
       "      <td>Vietnam</td>\n",
       "      <td>Vietnam</td>\n",
       "      <td>Foreign born- Not a citizen of U S</td>\n",
       "      <td>0</td>\n",
       "      <td>Not in universe</td>\n",
       "      <td>2</td>\n",
       "      <td>0</td>\n",
       "      <td>95</td>\n",
       "      <td>- 50000.</td>\n",
       "    </tr>\n",
       "    <tr>\n",
       "      <th>3</th>\n",
       "      <td>9</td>\n",
       "      <td>Not in universe</td>\n",
       "      <td>0</td>\n",
       "      <td>0</td>\n",
       "      <td>Children</td>\n",
       "      <td>0</td>\n",
       "      <td>Not in universe</td>\n",
       "      <td>Never married</td>\n",
       "      <td>Not in universe or children</td>\n",
       "      <td>Not in universe</td>\n",
       "      <td>...</td>\n",
       "      <td>United-States</td>\n",
       "      <td>United-States</td>\n",
       "      <td>United-States</td>\n",
       "      <td>Native- Born in the United States</td>\n",
       "      <td>0</td>\n",
       "      <td>Not in universe</td>\n",
       "      <td>0</td>\n",
       "      <td>0</td>\n",
       "      <td>94</td>\n",
       "      <td>- 50000.</td>\n",
       "    </tr>\n",
       "    <tr>\n",
       "      <th>4</th>\n",
       "      <td>10</td>\n",
       "      <td>Not in universe</td>\n",
       "      <td>0</td>\n",
       "      <td>0</td>\n",
       "      <td>Children</td>\n",
       "      <td>0</td>\n",
       "      <td>Not in universe</td>\n",
       "      <td>Never married</td>\n",
       "      <td>Not in universe or children</td>\n",
       "      <td>Not in universe</td>\n",
       "      <td>...</td>\n",
       "      <td>United-States</td>\n",
       "      <td>United-States</td>\n",
       "      <td>United-States</td>\n",
       "      <td>Native- Born in the United States</td>\n",
       "      <td>0</td>\n",
       "      <td>Not in universe</td>\n",
       "      <td>0</td>\n",
       "      <td>0</td>\n",
       "      <td>94</td>\n",
       "      <td>- 50000.</td>\n",
       "    </tr>\n",
       "  </tbody>\n",
       "</table>\n",
       "<p>5 rows × 42 columns</p>\n",
       "</div>"
      ],
      "text/plain": [
       "   AAGE                          ACLSWKR  ADTIND  ADTOCC  \\\n",
       "0    73                  Not in universe       0       0   \n",
       "1    58   Self-employed-not incorporated       4      34   \n",
       "2    18                  Not in universe       0       0   \n",
       "3     9                  Not in universe       0       0   \n",
       "4    10                  Not in universe       0       0   \n",
       "\n",
       "                          AHGA  AHRSPAY            AHSCOL         AMARITL  \\\n",
       "0         High school graduate        0   Not in universe         Widowed   \n",
       "1   Some college but no degree        0   Not in universe        Divorced   \n",
       "2                   10th grade        0       High school   Never married   \n",
       "3                     Children        0   Not in universe   Never married   \n",
       "4                     Children        0   Not in universe   Never married   \n",
       "\n",
       "                         AMJIND                                AMJOCC  ...  \\\n",
       "0   Not in universe or children                       Not in universe  ...   \n",
       "1                  Construction   Precision production craft & repair  ...   \n",
       "2   Not in universe or children                       Not in universe  ...   \n",
       "3   Not in universe or children                       Not in universe  ...   \n",
       "4   Not in universe or children                       Not in universe  ...   \n",
       "\n",
       "         PEFNTVTY        PEMNTVTY        PENATVTY  \\\n",
       "0   United-States   United-States   United-States   \n",
       "1   United-States   United-States   United-States   \n",
       "2         Vietnam         Vietnam         Vietnam   \n",
       "3   United-States   United-States   United-States   \n",
       "4   United-States   United-States   United-States   \n",
       "\n",
       "                               PRCITSHP SEOTR            VETQVA  VETYN  \\\n",
       "0     Native- Born in the United States     0   Not in universe      2   \n",
       "1     Native- Born in the United States     0   Not in universe      2   \n",
       "2   Foreign born- Not a citizen of U S      0   Not in universe      2   \n",
       "3     Native- Born in the United States     0   Not in universe      0   \n",
       "4     Native- Born in the United States     0   Not in universe      0   \n",
       "\n",
       "   WKSWORK  year     salary  \n",
       "0        0    95   - 50000.  \n",
       "1       52    94   - 50000.  \n",
       "2        0    95   - 50000.  \n",
       "3        0    94   - 50000.  \n",
       "4        0    94   - 50000.  \n",
       "\n",
       "[5 rows x 42 columns]"
      ]
     },
     "execution_count": 8,
     "metadata": {},
     "output_type": "execute_result"
    }
   ],
   "source": [
    "df_train.head()"
   ]
  },
  {
   "cell_type": "code",
   "execution_count": 9,
   "metadata": {},
   "outputs": [],
   "source": [
    "## Comparison with informations in metadata File"
   ]
  },
  {
   "cell_type": "code",
   "execution_count": 10,
   "metadata": {},
   "outputs": [
    {
     "name": "stdout",
     "output_type": "stream",
     "text": [
      "91 distinct values for attribute  AAGE ( age )\n",
      "9 distinct values for attribute  ACLSWKR ( class of worker )\n",
      "52 distinct values for attribute  ADTIND ( industry code )\n",
      "47 distinct values for attribute  ADTOCC ( occupation code )\n",
      "17 distinct values for attribute  AHGA ( education )\n",
      "1240 distinct values for attribute  AHRSPAY ( wage per Hour )\n",
      "3 distinct values for attribute  AHSCOL ( enrolled in edu inst last wk )\n",
      "7 distinct values for attribute  AMARITL ( marital status )\n",
      "24 distinct values for attribute  AMJIND ( major industry code )\n",
      "15 distinct values for attribute  AMJOCC ( major occupation code )\n",
      "5 distinct values for attribute  ARACE ( race )\n",
      "10 distinct values for attribute  AREORGN ( hispanic Origin )\n",
      "2 distinct values for attribute  ASEX ( sex )\n",
      "3 distinct values for attribute  AUNMEM ( member of a labor union )\n",
      "6 distinct values for attribute  AUNTYPE ( reason for unemployment )\n",
      "8 distinct values for attribute  AWKSTAT ( full or part time employment stat )\n",
      "132 distinct values for attribute  CAPGAIN ( capital gains )\n",
      "113 distinct values for attribute  CAPLOSS ( capital losses )\n",
      "1478 distinct values for attribute  DIVVAL ( divdends from stocks )\n",
      "6 distinct values for attribute  FILESTAT ( tax filer status )\n",
      "6 distinct values for attribute  GRINREG ( region of previous residence )\n",
      "51 distinct values for attribute  GRINST ( state of previous residence )\n",
      "38 distinct values for attribute  HHDFMX ( detailed household and family stat )\n",
      "8 distinct values for attribute  HHDREL ( detailed household summary in household )\n",
      "99800 distinct values for attribute  MARSUPWT ( instance Weight )\n",
      "10 distinct values for attribute  MIGMTR1 ( migration code-change in msa )\n",
      "9 distinct values for attribute  MIGMTR3 ( migration code-change in reg )\n",
      "10 distinct values for attribute  MIGMTR4 ( migration code-move within reg )\n",
      "3 distinct values for attribute  MIGSAME ( live in this house 1 year ago )\n",
      "4 distinct values for attribute  MIGSUN ( migration prev res in sunbelt )\n",
      "7 distinct values for attribute  NOEMP ( num persons worked for employer )\n",
      "5 distinct values for attribute  PARENT ( family members under 18 )\n",
      "43 distinct values for attribute  PEFNTVTY ( country of birth father )\n",
      "43 distinct values for attribute  PEMNTVTY ( country of birth mother )\n",
      "43 distinct values for attribute  PENATVTY ( country of birth self )\n",
      "5 distinct values for attribute  PRCITSHP ( citizenship )\n",
      "3 distinct values for attribute  SEOTR ( own business or self employed )\n",
      "3 distinct values for attribute  VETQVA ( fill inc questionnaire for veteran's admin )\n",
      "3 distinct values for attribute  VETYN ( veterans benefits )\n",
      "53 distinct values for attribute  WKSWORK ( weeks worked in year )\n",
      "2 distinct values for attribute  year ( year )\n",
      "2 distinct values for attribute  salary ( salary above 50000 or less than 50000 )\n"
     ]
    }
   ],
   "source": [
    "for col in df_train.columns:\n",
    "    print(len(df_train[col].unique()), 'distinct values for attribute ', col, '(',columns_dict[col] ,')')"
   ]
  },
  {
   "cell_type": "markdown",
   "metadata": {},
   "source": [
    "## Feature Engineering, Data Preparation for ML Model"
   ]
  },
  {
   "cell_type": "code",
   "execution_count": 11,
   "metadata": {},
   "outputs": [
    {
     "data": {
      "text/plain": [
       "False"
      ]
     },
     "execution_count": 11,
     "metadata": {},
     "output_type": "execute_result"
    }
   ],
   "source": [
    "# Check if there is null values\n",
    "df_train.isnull().values.any()"
   ]
  },
  {
   "cell_type": "code",
   "execution_count": 12,
   "metadata": {},
   "outputs": [
    {
     "data": {
      "text/plain": [
       "False"
      ]
     },
     "execution_count": 12,
     "metadata": {},
     "output_type": "execute_result"
    }
   ],
   "source": [
    "# Check if there are missing values\n",
    "df_train.isna().values.any()"
   ]
  },
  {
   "cell_type": "code",
   "execution_count": 13,
   "metadata": {},
   "outputs": [],
   "source": [
    "def encode_features(df):\n",
    "    X = df.copy()\n",
    "    # Categorical boolean mask\n",
    "    categorical_feature_mask = X.dtypes==object \n",
    "    categorical_feature_cat = X.dtypes=='category'\n",
    "    # filter categorical columns using mask and turn it into a list\n",
    "    categorical_cols = X.columns[categorical_feature_mask].tolist() + X.columns[categorical_feature_cat].tolist()\n",
    "\n",
    "    # instantiate labelencoder object\n",
    "    le = LabelEncoder()\n",
    "\n",
    "    # apply le on categorical feature columns\n",
    "    X[categorical_cols] = X[categorical_cols].apply(lambda col: le.fit_transform(col))\n",
    "    return X"
   ]
  },
  {
   "cell_type": "code",
   "execution_count": 14,
   "metadata": {},
   "outputs": [],
   "source": [
    "# separate the features from the labels\n",
    "X_train = df_train.drop(['MARSUPWT','salary'],axis=1)\n",
    "y_train_encoded = df_train.salary\n",
    "\n",
    "X_test = df_test.drop(['MARSUPWT','salary'],axis=1)\n",
    "y_test = df_test.salary\n",
    "\n",
    "X_train_encoded = encode_features(X_train)\n",
    "X_test_encoded = encode_features(X_test)"
   ]
  },
  {
   "cell_type": "code",
   "execution_count": 15,
   "metadata": {},
   "outputs": [
    {
     "data": {
      "text/html": [
       "<div>\n",
       "<style scoped>\n",
       "    .dataframe tbody tr th:only-of-type {\n",
       "        vertical-align: middle;\n",
       "    }\n",
       "\n",
       "    .dataframe tbody tr th {\n",
       "        vertical-align: top;\n",
       "    }\n",
       "\n",
       "    .dataframe thead th {\n",
       "        text-align: right;\n",
       "    }\n",
       "</style>\n",
       "<table border=\"1\" class=\"dataframe\">\n",
       "  <thead>\n",
       "    <tr style=\"text-align: right;\">\n",
       "      <th></th>\n",
       "      <th>AAGE</th>\n",
       "      <th>ACLSWKR</th>\n",
       "      <th>ADTIND</th>\n",
       "      <th>ADTOCC</th>\n",
       "      <th>AHGA</th>\n",
       "      <th>AHRSPAY</th>\n",
       "      <th>AHSCOL</th>\n",
       "      <th>AMARITL</th>\n",
       "      <th>AMJIND</th>\n",
       "      <th>AMJOCC</th>\n",
       "      <th>...</th>\n",
       "      <th>PARENT</th>\n",
       "      <th>PEFNTVTY</th>\n",
       "      <th>PEMNTVTY</th>\n",
       "      <th>PENATVTY</th>\n",
       "      <th>PRCITSHP</th>\n",
       "      <th>SEOTR</th>\n",
       "      <th>VETQVA</th>\n",
       "      <th>VETYN</th>\n",
       "      <th>WKSWORK</th>\n",
       "      <th>year</th>\n",
       "    </tr>\n",
       "  </thead>\n",
       "  <tbody>\n",
       "    <tr>\n",
       "      <th>0</th>\n",
       "      <td>73</td>\n",
       "      <td>3</td>\n",
       "      <td>0</td>\n",
       "      <td>0</td>\n",
       "      <td>12</td>\n",
       "      <td>0</td>\n",
       "      <td>2</td>\n",
       "      <td>6</td>\n",
       "      <td>14</td>\n",
       "      <td>6</td>\n",
       "      <td>...</td>\n",
       "      <td>4</td>\n",
       "      <td>40</td>\n",
       "      <td>40</td>\n",
       "      <td>40</td>\n",
       "      <td>4</td>\n",
       "      <td>0</td>\n",
       "      <td>1</td>\n",
       "      <td>2</td>\n",
       "      <td>0</td>\n",
       "      <td>95</td>\n",
       "    </tr>\n",
       "    <tr>\n",
       "      <th>1</th>\n",
       "      <td>58</td>\n",
       "      <td>6</td>\n",
       "      <td>4</td>\n",
       "      <td>34</td>\n",
       "      <td>16</td>\n",
       "      <td>0</td>\n",
       "      <td>2</td>\n",
       "      <td>0</td>\n",
       "      <td>4</td>\n",
       "      <td>8</td>\n",
       "      <td>...</td>\n",
       "      <td>4</td>\n",
       "      <td>40</td>\n",
       "      <td>40</td>\n",
       "      <td>40</td>\n",
       "      <td>4</td>\n",
       "      <td>0</td>\n",
       "      <td>1</td>\n",
       "      <td>2</td>\n",
       "      <td>52</td>\n",
       "      <td>94</td>\n",
       "    </tr>\n",
       "    <tr>\n",
       "      <th>2</th>\n",
       "      <td>18</td>\n",
       "      <td>3</td>\n",
       "      <td>0</td>\n",
       "      <td>0</td>\n",
       "      <td>0</td>\n",
       "      <td>0</td>\n",
       "      <td>1</td>\n",
       "      <td>4</td>\n",
       "      <td>14</td>\n",
       "      <td>6</td>\n",
       "      <td>...</td>\n",
       "      <td>4</td>\n",
       "      <td>41</td>\n",
       "      <td>41</td>\n",
       "      <td>41</td>\n",
       "      <td>0</td>\n",
       "      <td>0</td>\n",
       "      <td>1</td>\n",
       "      <td>2</td>\n",
       "      <td>0</td>\n",
       "      <td>95</td>\n",
       "    </tr>\n",
       "    <tr>\n",
       "      <th>3</th>\n",
       "      <td>9</td>\n",
       "      <td>3</td>\n",
       "      <td>0</td>\n",
       "      <td>0</td>\n",
       "      <td>10</td>\n",
       "      <td>0</td>\n",
       "      <td>2</td>\n",
       "      <td>4</td>\n",
       "      <td>14</td>\n",
       "      <td>6</td>\n",
       "      <td>...</td>\n",
       "      <td>0</td>\n",
       "      <td>40</td>\n",
       "      <td>40</td>\n",
       "      <td>40</td>\n",
       "      <td>4</td>\n",
       "      <td>0</td>\n",
       "      <td>1</td>\n",
       "      <td>0</td>\n",
       "      <td>0</td>\n",
       "      <td>94</td>\n",
       "    </tr>\n",
       "    <tr>\n",
       "      <th>4</th>\n",
       "      <td>10</td>\n",
       "      <td>3</td>\n",
       "      <td>0</td>\n",
       "      <td>0</td>\n",
       "      <td>10</td>\n",
       "      <td>0</td>\n",
       "      <td>2</td>\n",
       "      <td>4</td>\n",
       "      <td>14</td>\n",
       "      <td>6</td>\n",
       "      <td>...</td>\n",
       "      <td>0</td>\n",
       "      <td>40</td>\n",
       "      <td>40</td>\n",
       "      <td>40</td>\n",
       "      <td>4</td>\n",
       "      <td>0</td>\n",
       "      <td>1</td>\n",
       "      <td>0</td>\n",
       "      <td>0</td>\n",
       "      <td>94</td>\n",
       "    </tr>\n",
       "  </tbody>\n",
       "</table>\n",
       "<p>5 rows × 40 columns</p>\n",
       "</div>"
      ],
      "text/plain": [
       "   AAGE  ACLSWKR  ADTIND  ADTOCC  AHGA  AHRSPAY  AHSCOL  AMARITL  AMJIND  \\\n",
       "0    73        3       0       0    12        0       2        6      14   \n",
       "1    58        6       4      34    16        0       2        0       4   \n",
       "2    18        3       0       0     0        0       1        4      14   \n",
       "3     9        3       0       0    10        0       2        4      14   \n",
       "4    10        3       0       0    10        0       2        4      14   \n",
       "\n",
       "   AMJOCC  ...  PARENT  PEFNTVTY  PEMNTVTY  PENATVTY  PRCITSHP  SEOTR  VETQVA  \\\n",
       "0       6  ...       4        40        40        40         4      0       1   \n",
       "1       8  ...       4        40        40        40         4      0       1   \n",
       "2       6  ...       4        41        41        41         0      0       1   \n",
       "3       6  ...       0        40        40        40         4      0       1   \n",
       "4       6  ...       0        40        40        40         4      0       1   \n",
       "\n",
       "   VETYN  WKSWORK  year  \n",
       "0      2        0    95  \n",
       "1      2       52    94  \n",
       "2      2        0    95  \n",
       "3      0        0    94  \n",
       "4      0        0    94  \n",
       "\n",
       "[5 rows x 40 columns]"
      ]
     },
     "execution_count": 15,
     "metadata": {},
     "output_type": "execute_result"
    }
   ],
   "source": [
    "X_train_encoded.head()"
   ]
  },
  {
   "cell_type": "markdown",
   "metadata": {},
   "source": [
    "## Classification"
   ]
  },
  {
   "cell_type": "code",
   "execution_count": 16,
   "metadata": {},
   "outputs": [],
   "source": [
    "# Possible Classifiers to try\n",
    "classifiers = [\n",
    "    svm.LinearSVC(random_state=0, tol=1e-5),\n",
    "    KNeighborsClassifier(3),\n",
    "    SGDClassifier(max_iter=1000, tol=1e-3),\n",
    "    DecisionTreeClassifier(max_depth=5),\n",
    "    RandomForestClassifier(max_depth=5, n_estimators=10, max_features=1)]"
   ]
  },
  {
   "cell_type": "code",
   "execution_count": 17,
   "metadata": {},
   "outputs": [],
   "source": [
    "# Separate Training from Validation Sets to test better the Classifier performance\n",
    "X_train, X_valid, y_train, y_valid = train_test_split(X_train_encoded, y_train_encoded, test_size=0.33, random_state=0)\n",
    "# Apply Scaling to normalize the input Dataset\n",
    "scaler = preprocessing.StandardScaler().fit(X_train)\n",
    "X_train_transformed = scaler.transform(X_train)\n",
    "X_valid_transformed = scaler.transform(X_valid)"
   ]
  },
  {
   "cell_type": "code",
   "execution_count": 18,
   "metadata": {},
   "outputs": [
    {
     "name": "stderr",
     "output_type": "stream",
     "text": [
      "C:\\Users\\jaoua\\AppData\\Local\\Continuum\\anaconda3\\lib\\site-packages\\sklearn\\svm\\base.py:929: ConvergenceWarning: Liblinear failed to converge, increase the number of iterations.\n",
      "  \"the number of iterations.\", ConvergenceWarning)\n",
      "C:\\Users\\jaoua\\AppData\\Local\\Continuum\\anaconda3\\lib\\site-packages\\sklearn\\svm\\base.py:929: ConvergenceWarning: Liblinear failed to converge, increase the number of iterations.\n",
      "  \"the number of iterations.\", ConvergenceWarning)\n",
      "C:\\Users\\jaoua\\AppData\\Local\\Continuum\\anaconda3\\lib\\site-packages\\sklearn\\svm\\base.py:929: ConvergenceWarning: Liblinear failed to converge, increase the number of iterations.\n",
      "  \"the number of iterations.\", ConvergenceWarning)\n",
      "C:\\Users\\jaoua\\AppData\\Local\\Continuum\\anaconda3\\lib\\site-packages\\sklearn\\svm\\base.py:929: ConvergenceWarning: Liblinear failed to converge, increase the number of iterations.\n",
      "  \"the number of iterations.\", ConvergenceWarning)\n",
      "C:\\Users\\jaoua\\AppData\\Local\\Continuum\\anaconda3\\lib\\site-packages\\sklearn\\svm\\base.py:929: ConvergenceWarning: Liblinear failed to converge, increase the number of iterations.\n",
      "  \"the number of iterations.\", ConvergenceWarning)\n"
     ]
    },
    {
     "data": {
      "text/plain": [
       "array([0.94744913, 0.94614004, 0.94599042, 0.94505536, 0.94587822])"
      ]
     },
     "execution_count": 18,
     "metadata": {},
     "output_type": "execute_result"
    }
   ],
   "source": [
    "# The following transformation is a Machine learning pipeline that contains the preprocessor as first Step and then the \n",
    "# SVC as classifier.\n",
    "# The whole transformation will be applied using the cross validation technique with heldout data\n",
    "# The cross-validator in this case split dataset into k consecutive folds (without shuffling by default)\n",
    "clf = make_pipeline(preprocessing.StandardScaler(), svm.LinearSVC(random_state=0, tol=1e-5))\n",
    "cross_val_score(clf, X_train, y_train, cv=5)"
   ]
  },
  {
   "cell_type": "code",
   "execution_count": 27,
   "metadata": {},
   "outputs": [
    {
     "name": "stderr",
     "output_type": "stream",
     "text": [
      "C:\\Users\\jaoua\\AppData\\Local\\Continuum\\anaconda3\\lib\\site-packages\\sklearn\\svm\\base.py:929: ConvergenceWarning: Liblinear failed to converge, increase the number of iterations.\n",
      "  \"the number of iterations.\", ConvergenceWarning)\n"
     ]
    },
    {
     "name": "stdout",
     "output_type": "stream",
     "text": [
      "The training Model characteritics are  LinearSVC(C=1.0, class_weight=None, dual=True, fit_intercept=True,\n",
      "          intercept_scaling=1, loss='squared_hinge', max_iter=1000,\n",
      "          multi_class='ovr', penalty='l2', random_state=0, tol=1e-05,\n",
      "          verbose=0)\n",
      "Accuracy of this model 0.9472381270598241\n",
      "precision : 0.8727206811474542 recall : 0.5864857282162217\n"
     ]
    }
   ],
   "source": [
    "# Apply SVM Linear Classifier\n",
    "clf_0 = classifiers[0].fit(X_train_transformed, y_train)\n",
    "print('The training Model characteritics are ', clf_0)\n",
    "# Get Prediction from the trained Model\n",
    "y_pred = clf_0.predict(X_valid_transformed)\n",
    "# Accuracy of this Model\n",
    "print('Accuracy of this model', accuracy_score(y_valid, y_pred))\n",
    "#Precision and Recall of this Model\n",
    "prec_rec_result = precision_recall_fscore_support(y_valid, y_pred, average='macro')\n",
    "print('precision :', prec_rec_result[0], 'recall :' ,prec_rec_result[1])"
   ]
  },
  {
   "cell_type": "code",
   "execution_count": 21,
   "metadata": {},
   "outputs": [
    {
     "name": "stdout",
     "output_type": "stream",
     "text": [
      "The training Model characteritics is  KNeighborsClassifier(algorithm='auto', leaf_size=30, metric='minkowski',\n",
      "                     metric_params=None, n_jobs=None, n_neighbors=3, p=2,\n",
      "                     weights='uniform')\n",
      "accuracy of this model is 0.9407378157131357\n",
      "precision : 0.7382674483326244 recall : 0.6706654287355558\n"
     ]
    }
   ],
   "source": [
    "# Apply KNN Classifier\n",
    "clf_1 = classifiers[1].fit(X_train_transformed, y_train)\n",
    "print('The training Model characteritics are ', clf_1)\n",
    "# Get Prediction from the trained Model\n",
    "y_pred = clf_1.predict(X_valid_transformed)\n",
    "# Accuracy of this Model\n",
    "print('accuracy of this model is', accuracy_score(y_valid, y_pred))\n",
    "#Precision and Recall of this Model\n",
    "prec_rec_result = precision_recall_fscore_support(y_valid, y_pred, average='macro')\n",
    "print('precision :', prec_rec_result[0], 'recall :' ,prec_rec_result[1])"
   ]
  },
  {
   "cell_type": "code",
   "execution_count": 19,
   "metadata": {},
   "outputs": [
    {
     "name": "stdout",
     "output_type": "stream",
     "text": [
      "The training Model characteritics are  SGDClassifier(alpha=0.0001, average=False, class_weight=None,\n",
      "              early_stopping=False, epsilon=0.1, eta0=0.0, fit_intercept=True,\n",
      "              l1_ratio=0.15, learning_rate='optimal', loss='hinge',\n",
      "              max_iter=1000, n_iter_no_change=5, n_jobs=None, penalty='l2',\n",
      "              power_t=0.5, random_state=None, shuffle=True, tol=0.001,\n",
      "              validation_fraction=0.1, verbose=0, warm_start=False)\n",
      "accuracy of this model is 0.9472077517731574\n",
      "precision : 0.8775828633125451 recall : 0.5844804022283925\n"
     ]
    }
   ],
   "source": [
    "# Apply SGD Classifier\n",
    "clf_2 = classifiers[2].fit(X_train_transformed, y_train)\n",
    "print('The training Model characteritics are ', clf_2)\n",
    "# Get Prediction from the trained Model\n",
    "y_pred = clf_2.predict(X_valid_transformed)\n",
    "# Accuracy of this Model\n",
    "print('accuracy of this model is', accuracy_score(y_valid, y_pred))\n",
    "#Precision and Recall of this Model\n",
    "prec_rec_result = precision_recall_fscore_support(y_valid, y_pred, average='macro')\n",
    "print('precision :', prec_rec_result[0], 'recall :' ,prec_rec_result[1])"
   ]
  },
  {
   "cell_type": "code",
   "execution_count": 20,
   "metadata": {},
   "outputs": [
    {
     "name": "stdout",
     "output_type": "stream",
     "text": [
      "The training Model characteritics are  DecisionTreeClassifier(class_weight=None, criterion='gini', max_depth=5,\n",
      "                       max_features=None, max_leaf_nodes=None,\n",
      "                       min_impurity_decrease=0.0, min_impurity_split=None,\n",
      "                       min_samples_leaf=1, min_samples_split=2,\n",
      "                       min_weight_fraction_leaf=0.0, presort=False,\n",
      "                       random_state=None, splitter='best')\n",
      "accuracy of this model is 0.9495314612031651\n",
      "precision : 0.8145930046306198 recall : 0.6601352115208549\n"
     ]
    }
   ],
   "source": [
    "# Apply Decision Tree  Classifier\n",
    "clf_3 = classifiers[3].fit(X_train_transformed, y_train)\n",
    "print('The training Model characteritics are ', clf_3)\n",
    "# Get Prediction from the trained Model\n",
    "y_pred = clf_3.predict(X_valid_transformed)\n",
    "# Accuracy of this Model\n",
    "print('accuracy of this model is', accuracy_score(y_valid, y_pred))\n",
    "#Precision and Recall of this Model\n",
    "prec_rec_result = precision_recall_fscore_support(y_valid, y_pred, average='macro')\n",
    "print('precision :', prec_rec_result[0], 'recall :' ,prec_rec_result[1])"
   ]
  },
  {
   "cell_type": "code",
   "execution_count": 21,
   "metadata": {},
   "outputs": [
    {
     "name": "stdout",
     "output_type": "stream",
     "text": [
      "The training Model characteritics are  RandomForestClassifier(bootstrap=True, class_weight=None, criterion='gini',\n",
      "                       max_depth=5, max_features=1, max_leaf_nodes=None,\n",
      "                       min_impurity_decrease=0.0, min_impurity_split=None,\n",
      "                       min_samples_leaf=1, min_samples_split=2,\n",
      "                       min_weight_fraction_leaf=0.0, n_estimators=10,\n",
      "                       n_jobs=None, oob_score=False, random_state=None,\n",
      "                       verbose=0, warm_start=False)\n",
      "accuracy of this model is 0.9392949895964643\n",
      "precision : 0.46964749479823215 recall : 0.5\n"
     ]
    },
    {
     "name": "stderr",
     "output_type": "stream",
     "text": [
      "C:\\Users\\jaoua\\AppData\\Local\\Continuum\\anaconda3\\lib\\site-packages\\sklearn\\metrics\\classification.py:1437: UndefinedMetricWarning: Precision and F-score are ill-defined and being set to 0.0 in labels with no predicted samples.\n",
      "  'precision', 'predicted', average, warn_for)\n"
     ]
    }
   ],
   "source": [
    "# Apply Random Forest  Classifier\n",
    "clf_4 = classifiers[4].fit(X_train_transformed, y_train)\n",
    "print('The training Model characteritics are ', clf_4)\n",
    "# Get Prediction from the trained Model\n",
    "y_pred = clf_4.predict(X_valid_transformed)\n",
    "# Accuracy of this Model\n",
    "print('accuracy of this model is', accuracy_score(y_valid, y_pred))\n",
    "#Precision and Recall of this Model\n",
    "prec_rec_result = precision_recall_fscore_support(y_valid, y_pred, average='macro')\n",
    "print('precision :', prec_rec_result[0], 'recall :' ,prec_rec_result[1])"
   ]
  },
  {
   "cell_type": "code",
   "execution_count": null,
   "metadata": {},
   "outputs": [],
   "source": [
    "## Interpretation :\n",
    "# We can clearly notice that the accuracy value is not that different between the models. The value is always around 90 %.\n",
    "# This was somehow expected due to the fact that the 42th Variable has inbalanced classes.\n",
    "# So comparing the precision and recall of every trained model, we can notice that classifier Decision Tree\n",
    "# gave us the best results. So we will use later the Decision Tree Classifier for the testing data."
   ]
  },
  {
   "cell_type": "markdown",
   "metadata": {},
   "source": [
    "## Performance Metrics"
   ]
  },
  {
   "cell_type": "code",
   "execution_count": 22,
   "metadata": {},
   "outputs": [
    {
     "data": {
      "text/plain": [
       "0.9392949895964643"
      ]
     },
     "execution_count": 22,
     "metadata": {},
     "output_type": "execute_result"
    }
   ],
   "source": [
    "# calculate accuracy score\n",
    "# Classification Accuracy is the ratio of number of correct predictions to the total number of input samples.\n",
    "# It works well only if there are equal number of samples belonging to each class which is not really our case \n",
    "# but this metric can help us evaluate the performance model\n",
    "accuracy_score(y_valid, y_pred)"
   ]
  },
  {
   "cell_type": "code",
   "execution_count": 23,
   "metadata": {},
   "outputs": [
    {
     "data": {
      "text/plain": [
       "(0.46964749479823215, 0.5, 0.48434869096006705, None)"
      ]
     },
     "execution_count": 23,
     "metadata": {},
     "output_type": "execute_result"
    }
   ],
   "source": [
    "# Precision & recall\n",
    "# Precision is the number of correct positive results divided by the number of positive results predicted by the classifier\n",
    "# Recall is the number of correct positive results divided by the number of all relevant samples \n",
    "# Output should be (precision, recall, fbeta_score)\n",
    "precision_recall_fscore_support(y_valid, y_pred, average='macro')"
   ]
  },
  {
   "cell_type": "markdown",
   "metadata": {},
   "source": [
    "## Predict Testing Data"
   ]
  },
  {
   "cell_type": "code",
   "execution_count": 25,
   "metadata": {},
   "outputs": [
    {
     "name": "stdout",
     "output_type": "stream",
     "text": [
      "The training Model characteritics is  DecisionTreeClassifier(class_weight=None, criterion='gini', max_depth=5,\n",
      "                       max_features=None, max_leaf_nodes=None,\n",
      "                       min_impurity_decrease=0.0, min_impurity_split=None,\n",
      "                       min_samples_leaf=1, min_samples_split=2,\n",
      "                       min_weight_fraction_leaf=0.0, presort=False,\n",
      "                       random_state=None, splitter='best')\n",
      "accuracy of this model is 0.8860087007076843\n",
      "precision : 0.5617155607716249 recall : 0.5781945516549586\n"
     ]
    }
   ],
   "source": [
    "# Load the whole training data (not just 70 %)\n",
    "scaler = preprocessing.StandardScaler().fit(X_train_encoded)\n",
    "X_train_transformed = scaler.transform(X_train_encoded)\n",
    "# Load testing data\n",
    "X_test_transformed = scaler.transform(X_test_encoded)\n",
    "# train the chosen model on the whole training data  \n",
    "clf_3 = classifiers[3].fit(X_train_transformed, y_train_encoded)\n",
    "print('The training Model characteritics is ', clf_3)\n",
    "# Get Prediction from the chosen trained Model\n",
    "y_pred = clf_3.predict(X_test_encoded)\n",
    "# Calculate Accuracy again of this Model\n",
    "print('accuracy of this model is', accuracy_score(y_test, y_pred))\n",
    "# Calculate Precision and Recall again of this Model\n",
    "prec_rec_result = precision_recall_fscore_support(y_test, y_pred, average='macro')\n",
    "print('precision :', prec_rec_result[0], 'recall :' ,prec_rec_result[1])\n"
   ]
  },
  {
   "cell_type": "code",
   "execution_count": 38,
   "metadata": {},
   "outputs": [],
   "source": [
    "# Visualize Prediction Output Data\n",
    "y_pred_df = pd.DataFrame(y_pred, columns=['prediction'])"
   ]
  },
  {
   "cell_type": "code",
   "execution_count": 44,
   "metadata": {},
   "outputs": [
    {
     "data": {
      "text/plain": [
       "prediction\n",
       " - 50000.    91770\n",
       " 50000+.      7992\n",
       "dtype: int64"
      ]
     },
     "execution_count": 44,
     "metadata": {},
     "output_type": "execute_result"
    }
   ],
   "source": [
    "#Count how many samples will earn more or less than 50.000\n",
    "y_pred_df.groupby('prediction').size()"
   ]
  },
  {
   "cell_type": "code",
   "execution_count": 45,
   "metadata": {},
   "outputs": [
    {
     "data": {
      "text/html": [
       "<div>\n",
       "<style scoped>\n",
       "    .dataframe tbody tr th:only-of-type {\n",
       "        vertical-align: middle;\n",
       "    }\n",
       "\n",
       "    .dataframe tbody tr th {\n",
       "        vertical-align: top;\n",
       "    }\n",
       "\n",
       "    .dataframe thead th {\n",
       "        text-align: right;\n",
       "    }\n",
       "</style>\n",
       "<table border=\"1\" class=\"dataframe\">\n",
       "  <thead>\n",
       "    <tr style=\"text-align: right;\">\n",
       "      <th></th>\n",
       "      <th>prediction</th>\n",
       "    </tr>\n",
       "  </thead>\n",
       "  <tbody>\n",
       "    <tr>\n",
       "      <th>0</th>\n",
       "      <td>- 50000.</td>\n",
       "    </tr>\n",
       "    <tr>\n",
       "      <th>1</th>\n",
       "      <td>- 50000.</td>\n",
       "    </tr>\n",
       "    <tr>\n",
       "      <th>2</th>\n",
       "      <td>- 50000.</td>\n",
       "    </tr>\n",
       "    <tr>\n",
       "      <th>3</th>\n",
       "      <td>- 50000.</td>\n",
       "    </tr>\n",
       "    <tr>\n",
       "      <th>4</th>\n",
       "      <td>- 50000.</td>\n",
       "    </tr>\n",
       "  </tbody>\n",
       "</table>\n",
       "</div>"
      ],
      "text/plain": [
       "  prediction\n",
       "0   - 50000.\n",
       "1   - 50000.\n",
       "2   - 50000.\n",
       "3   - 50000.\n",
       "4   - 50000."
      ]
     },
     "execution_count": 45,
     "metadata": {},
     "output_type": "execute_result"
    }
   ],
   "source": [
    "y_pred_df.head()"
   ]
  },
  {
   "cell_type": "code",
   "execution_count": null,
   "metadata": {},
   "outputs": [],
   "source": []
  }
 ],
 "metadata": {
  "kernelspec": {
   "display_name": "Python 3",
   "language": "python",
   "name": "python3"
  },
  "language_info": {
   "codemirror_mode": {
    "name": "ipython",
    "version": 3
   },
   "file_extension": ".py",
   "mimetype": "text/x-python",
   "name": "python",
   "nbconvert_exporter": "python",
   "pygments_lexer": "ipython3",
   "version": "3.7.3"
  }
 },
 "nbformat": 4,
 "nbformat_minor": 2
}
